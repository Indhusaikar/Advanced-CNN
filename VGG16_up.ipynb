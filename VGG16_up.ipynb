{
  "nbformat": 4,
  "nbformat_minor": 0,
  "metadata": {
    "colab": {
      "provenance": [],
      "gpuType": "T4"
    },
    "kernelspec": {
      "name": "python3",
      "display_name": "Python 3"
    },
    "language_info": {
      "name": "python"
    },
    "accelerator": "GPU"
  },
  "cells": [
    {
      "cell_type": "code",
      "source": [
        "from google.colab import drive\n",
        "drive.mount('/content/drive')"
      ],
      "metadata": {
        "colab": {
          "base_uri": "https://localhost:8080/"
        },
        "id": "yS_X1dP27TUV",
        "outputId": "a4397057-50e0-46d2-8579-f6ee6dd64e27"
      },
      "execution_count": null,
      "outputs": [
        {
          "output_type": "stream",
          "name": "stdout",
          "text": [
            "Mounted at /content/drive\n"
          ]
        }
      ]
    },
    {
      "cell_type": "code",
      "source": [
        "import torchvision\n",
        "import torch.nn as nn\n",
        "import torch\n",
        "import torch.nn.functional as F\n",
        "from torchvision import transforms, models, datasets\n",
        "import matplotlib.pyplot as plt\n",
        "from PIL import Image\n",
        "import numpy as np\n",
        "from torch import optim\n",
        "from torch.utils.data import DataLoader, Dataset\n",
        "import cv2, glob, numpy as np, pandas as pd\n",
        "import seaborn as sns\n",
        "from sklearn.metrics import accuracy_score, precision_score, recall_score, f1_score, confusion_matrix"
      ],
      "metadata": {
        "id": "UZkb0JL97TRd"
      },
      "execution_count": null,
      "outputs": []
    },
    {
      "cell_type": "code",
      "source": [
        "\n",
        "# Set device (GPU if available)\n",
        "device = 'cuda' if torch.cuda.is_available() else 'cpu'"
      ],
      "metadata": {
        "id": "Jt8ffKUr79W5"
      },
      "execution_count": null,
      "outputs": []
    },
    {
      "cell_type": "code",
      "source": [
        "!kaggle datasets download -d tongpython/cat-and-dog\n",
        "!unzip cat-and-dog.zip"
      ],
      "metadata": {
        "colab": {
          "base_uri": "https://localhost:8080/"
        },
        "id": "YKGhsqvh8Glx",
        "outputId": "49cff981-13fd-42d0-8c92-489593ae06eb"
      },
      "execution_count": null,
      "outputs": [
        {
          "output_type": "stream",
          "name": "stdout",
          "text": [
            "Dataset URL: https://www.kaggle.com/datasets/tongpython/cat-and-dog\n",
            "License(s): CC0-1.0\n",
            "cat-and-dog.zip: Skipping, found more recently modified local copy (use --force to force download)\n",
            "Archive:  cat-and-dog.zip\n",
            "replace test_set/test_set/cats/_DS_Store? [y]es, [n]o, [A]ll, [N]one, [r]ename: "
          ]
        }
      ]
    },
    {
      "cell_type": "code",
      "source": [
        "\n",
        "# Dataset paths\n",
        "train_data_dir = 'training_set/training_set'\n",
        "test_data_dir = 'test_set/test_set'"
      ],
      "metadata": {
        "id": "Rs4ldndu8A60"
      },
      "execution_count": null,
      "outputs": []
    },
    {
      "cell_type": "code",
      "source": [
        "# Custom Dataset Class\n",
        "class CatsDogs(Dataset):\n",
        "    def __init__(self, folder):\n",
        "        cats = glob(folder + 'inflating: training_set/training_set/cats/cat.561.jpg')\n",
        "        dogs = glob(folder + 'inflating: training_set/training_set/dogs/dog.723.jpg')\n",
        "        self.fpaths = cats[:500] + dogs[:500]  # Use 500 samples each\n",
        "        self.normalize = transforms.Normalize(mean=[0.485, 0.456, 0.406], std=[0.229, 0.224, 0.225])\n",
        "        # Shuffle data\n",
        "        from random import shuffle, seed\n",
        "        seed(10)\n",
        "        shuffle(self.fpaths)\n",
        "\n",
        "        self.targets = [fpath.split('/')[-1].startswith('dog') for fpath in self.fpaths]\n",
        "\n",
        "    def __len__(self):\n",
        "        return len(self.fpaths)\n",
        "\n",
        "    def __getitem__(self, ix):\n",
        "        f = self.fpaths[ix]\n",
        "        target = self.targets[ix]\n",
        "        im = cv2.imread(f)[:, :, ::-1]  # Convert BGR to RGB\n",
        "        im = cv2.resize(im, (224, 224))\n",
        "        im = torch.tensor(im / 255).permute(2, 0, 1)  # Normalize to [0,1]\n",
        "        im = self.normalize(im)\n",
        "        return im.float().to(device), torch.tensor([target]).float().to(device)"
      ],
      "metadata": {
        "id": "pc1qZiCj8A3I"
      },
      "execution_count": null,
      "outputs": []
    },
    {
      "cell_type": "code",
      "source": [
        "import glob\n",
        "\n",
        "class CatsDogs(Dataset):\n",
        "    def __init__(self, folder):\n",
        "        cats = glob.glob(folder + '/cats/*.jpg')  # Get all cat images\n",
        "        dogs = glob.glob(folder + '/dogs/*.jpg')  # Get all dog images\n",
        "        self.fpaths = cats[:500] + dogs[:500]  # Use first 500 from each class\n",
        "\n",
        "        self.normalize = transforms.Normalize(mean=[0.485, 0.456, 0.406], std=[0.229, 0.224, 0.225])\n",
        "\n",
        "        from random import shuffle, seed\n",
        "        seed(10)\n",
        "        shuffle(self.fpaths)\n",
        "\n",
        "        self.targets = [fpath.split('/')[-1].startswith('dog') for fpath in self.fpaths]\n",
        "\n",
        "    def __len__(self):\n",
        "        return len(self.fpaths)\n",
        "\n",
        "    def __getitem__(self, ix):\n",
        "        f = self.fpaths[ix]\n",
        "        target = self.targets[ix]\n",
        "        im = cv2.imread(f)[:, :, ::-1]  # Convert BGR to RGB\n",
        "        im = cv2.resize(im, (224, 224))\n",
        "        im = torch.tensor(im / 255).permute(2, 0, 1)  # Normalize to [0,1]\n",
        "        im = self.normalize(im)\n",
        "        return im.float().to(device), torch.tensor([target]).float().to(device)\n"
      ],
      "metadata": {
        "id": "7FIZURlL-O4W"
      },
      "execution_count": null,
      "outputs": []
    },
    {
      "cell_type": "code",
      "source": [
        "\n",
        "# Load a sample image\n",
        "data = CatsDogs(train_data_dir)\n",
        "im, label = data[200]\n",
        "plt.imshow(im.permute(1,2,0).cpu())\n",
        "print(label)"
      ],
      "metadata": {
        "colab": {
          "base_uri": "https://localhost:8080/",
          "height": 489
        },
        "id": "VcZyD5Si8Azh",
        "outputId": "b0b378fe-bf63-42e1-afc8-a056a6a91e56"
      },
      "execution_count": null,
      "outputs": [
        {
          "output_type": "stream",
          "name": "stderr",
          "text": [
            "WARNING:matplotlib.image:Clipping input data to the valid range for imshow with RGB data ([0..1] for floats or [0..255] for integers). Got range [-2.0665298..2.1659663].\n"
          ]
        },
        {
          "output_type": "stream",
          "name": "stdout",
          "text": [
            "tensor([0.], device='cuda:0')\n"
          ]
        },
        {
          "output_type": "display_data",
          "data": {
            "text/plain": [
              "<Figure size 640x480 with 1 Axes>"
            ],
            "image/png": "[encoded data removed]"
          },
          "metadata": {}
        }
      ]
    },
    {
      "cell_type": "code",
      "source": [
        "import torch\n",
        "import torch.nn as nn\n",
        "import torch.optim as optim\n",
        "import torchvision.models as models\n",
        "from torchsummary import summary\n",
        "\n",
        "# Define VGG16 Model (Without Pretrained Weights)\n",
        "def get_model():\n",
        "    model = models.vgg16(pretrained=False)  # No pre-trained weights (training from scratch)\n",
        "\n",
        "    # Modify classifier for binary classification\n",
        "    model.avgpool = nn.AdaptiveAvgPool2d(output_size=(1,1))\n",
        "    model.classifier = nn.Sequential(\n",
        "        nn.Flatten(),\n",
        "        nn.Linear(512, 128),\n",
        "        nn.ReLU(),\n",
        "        nn.Dropout(0.2),\n",
        "        nn.Linear(128, 1),\n",
        "        nn.Sigmoid()\n",
        "    )\n",
        "\n",
        "    loss_fn = nn.BCELoss()  # Binary Cross Entropy Loss for classification\n",
        "    optimizer = optim.Adam(model.parameters(), lr=1e-3)\n",
        "\n",
        "    return model.to(device), loss_fn, optimizer\n",
        "\n",
        "# Create model instance\n",
        "model, criterion, optimizer = get_model()\n",
        "\n",
        "# Print model summary\n",
        "summary(model, (3, 224, 224))  # Input shape for RGB images\n"
      ],
      "metadata": {
        "colab": {
          "base_uri": "https://localhost:8080/"
        },
        "id": "XoJSuBcdPuUh",
        "outputId": "da96c089-719d-4eaf-f935-82ccd2f7c264"
      },
      "execution_count": null,
      "outputs": [
        {
          "output_type": "stream",
          "name": "stderr",
          "text": [
            "/usr/local/lib/python3.11/dist-packages/torchvision/models/_utils.py:208: UserWarning: The parameter 'pretrained' is deprecated since 0.13 and may be removed in the future, please use 'weights' instead.\n",
            "  warnings.warn(\n",
            "/usr/local/lib/python3.11/dist-packages/torchvision/models/_utils.py:223: UserWarning: Arguments other than a weight enum or `None` for 'weights' are deprecated since 0.13 and may be removed in the future. The current behavior is equivalent to passing `weights=None`.\n",
            "  warnings.warn(msg)\n"
          ]
        },
        {
          "output_type": "stream",
          "name": "stdout",
          "text": [
            "----------------------------------------------------------------\n",
            "        Layer (type)               Output Shape         Param #\n",
            "================================================================\n",
            "            Conv2d-1         [-1, 64, 224, 224]           1,792\n",
            "              ReLU-2         [-1, 64, 224, 224]               0\n",
            "            Conv2d-3         [-1, 64, 224, 224]          36,928\n",
            "              ReLU-4         [-1, 64, 224, 224]               0\n",
            "         MaxPool2d-5         [-1, 64, 112, 112]               0\n",
            "            Conv2d-6        [-1, 128, 112, 112]          73,856\n",
            "              ReLU-7        [-1, 128, 112, 112]               0\n",
            "            Conv2d-8        [-1, 128, 112, 112]         147,584\n",
            "              ReLU-9        [-1, 128, 112, 112]               0\n",
            "        MaxPool2d-10          [-1, 128, 56, 56]               0\n",
            "           Conv2d-11          [-1, 256, 56, 56]         295,168\n",
            "             ReLU-12          [-1, 256, 56, 56]               0\n",
            "           Conv2d-13          [-1, 256, 56, 56]         590,080\n",
            "             ReLU-14          [-1, 256, 56, 56]               0\n",
            "           Conv2d-15          [-1, 256, 56, 56]         590,080\n",
            "             ReLU-16          [-1, 256, 56, 56]               0\n",
            "        MaxPool2d-17          [-1, 256, 28, 28]               0\n",
            "           Conv2d-18          [-1, 512, 28, 28]       1,180,160\n",
            "             ReLU-19          [-1, 512, 28, 28]               0\n",
            "           Conv2d-20          [-1, 512, 28, 28]       2,359,808\n",
            "             ReLU-21          [-1, 512, 28, 28]               0\n",
            "           Conv2d-22          [-1, 512, 28, 28]       2,359,808\n",
            "             ReLU-23          [-1, 512, 28, 28]               0\n",
            "        MaxPool2d-24          [-1, 512, 14, 14]               0\n",
            "           Conv2d-25          [-1, 512, 14, 14]       2,359,808\n",
            "             ReLU-26          [-1, 512, 14, 14]               0\n",
            "           Conv2d-27          [-1, 512, 14, 14]       2,359,808\n",
            "             ReLU-28          [-1, 512, 14, 14]               0\n",
            "           Conv2d-29          [-1, 512, 14, 14]       2,359,808\n",
            "             ReLU-30          [-1, 512, 14, 14]               0\n",
            "        MaxPool2d-31            [-1, 512, 7, 7]               0\n",
            "AdaptiveAvgPool2d-32            [-1, 512, 1, 1]               0\n",
            "          Flatten-33                  [-1, 512]               0\n",
            "           Linear-34                  [-1, 128]          65,664\n",
            "             ReLU-35                  [-1, 128]               0\n",
            "          Dropout-36                  [-1, 128]               0\n",
            "           Linear-37                    [-1, 1]             129\n",
            "          Sigmoid-38                    [-1, 1]               0\n",
            "================================================================\n",
            "Total params: 14,780,481\n",
            "Trainable params: 14,780,481\n",
            "Non-trainable params: 0\n",
            "----------------------------------------------------------------\n",
            "Input size (MB): 0.57\n",
            "Forward/backward pass size (MB): 218.41\n",
            "Params size (MB): 56.38\n",
            "Estimated Total Size (MB): 275.36\n",
            "----------------------------------------------------------------\n"
          ]
        }
      ]
    },
    {
      "cell_type": "code",
      "source": [
        "# Define VGG16 Model (without pre-trained weights)\n",
        "def get_model():\n",
        "    model = models.vgg16(pretrained=False) # Start from scratch\n",
        "\n",
        "    # Freeze all model parameters\n",
        "    for param in model.parameters():\n",
        "        param.requires_grad = True # Allow training of all layers\n",
        "\n",
        "    # Modify classifier for binary classification\n",
        "    model.avgpool = nn.AdaptiveAvgPool2d(output_size=(1,1))\n",
        "    model.classifier = nn.Sequential(\n",
        "        nn.Flatten(),\n",
        "        nn.Linear(512, 128),\n",
        "        nn.ReLU(),\n",
        "        nn.Dropout(0.2),\n",
        "        nn.Linear(128, 1),\n",
        "        nn.Sigmoid()\n",
        "    )\n",
        "\n",
        "    loss_fn = nn.BCELoss()  # Binary Cross Entropy Loss for classification\n",
        "    optimizer = torch.optim.Adam(model.parameters(), lr=1e-3)\n",
        "\n",
        "    return model.to(device), loss_fn, optimizer  # ✅ This is inside the function"
      ],
      "metadata": {
        "id": "0u11t3ux_HOi"
      },
      "execution_count": null,
      "outputs": []
    },
    {
      "cell_type": "code",
      "source": [
        "# Training function\n",
        "def train_batch(x, y, model, opt, loss_fn):\n",
        "    model.train()\n",
        "    prediction = model(x)\n",
        "    batch_loss = loss_fn(prediction, y)\n",
        "    batch_loss.backward()\n",
        "    optimizer.step()\n",
        "    optimizer.zero_grad()\n",
        "    return batch_loss.item()\n"
      ],
      "metadata": {
        "id": "B1umVX8J_HAD"
      },
      "execution_count": null,
      "outputs": []
    },
    {
      "cell_type": "code",
      "source": [
        "# Accuracy function\n",
        "@torch.no_grad()\n",
        "def accuracy(x, y, model):\n",
        "    model.eval()\n",
        "    prediction = model(x)\n",
        "    is_correct = (prediction > 0.5) == y\n",
        "    return is_correct.cpu().numpy().tolist()\n"
      ],
      "metadata": {
        "id": "dZ0_Qih0_G87"
      },
      "execution_count": null,
      "outputs": []
    },
    {
      "cell_type": "code",
      "source": [
        "# Prepare DataLoaders\n",
        "def get_data():\n",
        "    train = CatsDogs(train_data_dir)\n",
        "    trn_dl = DataLoader(train, batch_size=32, shuffle=True, drop_last=True)\n",
        "    val = CatsDogs(test_data_dir)\n",
        "    val_dl = DataLoader(val, batch_size=32, shuffle=True, drop_last=True)\n",
        "    return trn_dl, val_dl\n"
      ],
      "metadata": {
        "id": "ys3rEBgw_XN2"
      },
      "execution_count": null,
      "outputs": []
    },
    {
      "cell_type": "code",
      "source": [
        "# Train the model\n",
        "trn_dl, val_dl = get_data()\n",
        "model, loss_fn, optimizer = get_model()\n",
        "\n",
        "train_losses, train_accuracies = [], []\n",
        "val_accuracies = []\n",
        "\n",
        "for epoch in range(5):\n",
        "    print(f\"Epoch {epoch + 1}/5\")\n",
        "\n",
        "    train_epoch_losses, train_epoch_accuracies = [], []\n",
        "    val_epoch_accuracies = []"
      ],
      "metadata": {
        "colab": {
          "base_uri": "https://localhost:8080/"
        },
        "id": "XG6Ok0Vt_XK9",
        "outputId": "6e97c65e-c589-4360-9f2b-5c6f267c00bc"
      },
      "execution_count": null,
      "outputs": [
        {
          "output_type": "stream",
          "name": "stdout",
          "text": [
            "Epoch 1/5\n",
            "Epoch 2/5\n",
            "Epoch 3/5\n",
            "Epoch 4/5\n",
            "Epoch 5/5\n"
          ]
        }
      ]
    },
    {
      "cell_type": "code",
      "source": [
        " # Training\n",
        "for ix, batch in enumerate(iter(trn_dl)):\n",
        "    x, y = batch\n",
        "    batch_loss = train_batch(x, y, model, optimizer, loss_fn)\n",
        "    train_epoch_losses.append(batch_loss)\n",
        "\n",
        "    train_epoch_loss = np.array(train_epoch_losses).mean()"
      ],
      "metadata": {
        "id": "0ZrzZ6vX_XEc"
      },
      "execution_count": null,
      "outputs": []
    },
    {
      "cell_type": "code",
      "source": [
        "\n",
        "    # Training Accuracy\n",
        "    for ix, batch in enumerate(iter(trn_dl)):\n",
        "        x, y = batch\n",
        "        is_correct = accuracy(x, y, model)\n",
        "        train_epoch_accuracies.extend(is_correct)\n",
        "    train_epoch_accuracy = np.mean(train_epoch_accuracies)\n"
      ],
      "metadata": {
        "id": "_jSIzwU-AMX0"
      },
      "execution_count": null,
      "outputs": []
    },
    {
      "cell_type": "code",
      "source": [
        "# Validation Accuracy\n",
        "for ix, batch in enumerate(iter(val_dl)):\n",
        "    x, y = batch\n",
        "    val_is_correct = accuracy(x, y, model)\n",
        "    val_epoch_accuracies.extend(val_is_correct)\n",
        "    val_epoch_accuracy = np.mean(val_epoch_accuracies)\n",
        "\n",
        "    train_losses.append(train_epoch_loss)\n",
        "    train_accuracies.append(train_epoch_accuracy)\n",
        "    val_accuracies.append(val_epoch_accuracy)"
      ],
      "metadata": {
        "id": "nXA9ZOUdAMUb"
      },
      "execution_count": null,
      "outputs": []
    },
    {
      "cell_type": "code",
      "source": [
        "train_losses, train_accuracies, val_accuracies = [], [], []\n",
        "\n",
        "for epoch in range(5):\n",
        "    print(f\"Epoch {epoch + 1}/5\")\n",
        "\n",
        "    train_epoch_losses, train_epoch_accuracies = [], []\n",
        "    val_epoch_accuracies = []\n",
        "\n",
        "    # Training loop\n",
        "    for x, y in iter(trn_dl):\n",
        "        batch_loss = train_batch(x, y, model, optimizer, loss_fn)\n",
        "        train_epoch_losses.append(batch_loss)\n",
        "\n",
        "    train_epoch_loss = np.mean(train_epoch_losses)  # Store avg loss\n",
        "    train_losses.append(train_epoch_loss)\n",
        "\n",
        "    # Compute training accuracy for the whole epoch\n",
        "    train_epoch_accuracy = np.mean([accuracy(x, y, model) for x, y in iter(trn_dl)])\n",
        "    train_accuracies.append(train_epoch_accuracy)\n",
        "\n",
        "    # Compute validation accuracy\n",
        "    val_epoch_accuracy = np.mean([accuracy(x, y, model) for x, y in iter(val_dl)])\n",
        "    val_accuracies.append(val_epoch_accuracy)\n",
        "\n",
        "# Now, the lengths should match (both lists have 5 values)\n"
      ],
      "metadata": {
        "colab": {
          "base_uri": "https://localhost:8080/"
        },
        "id": "750a9DXDD58X",
        "outputId": "ada3785b-8ca9-4fe1-8459-7601feeaf7ee"
      },
      "execution_count": null,
      "outputs": [
        {
          "output_type": "stream",
          "name": "stdout",
          "text": [
            "Epoch 1/5\n",
            "Epoch 2/5\n",
            "Epoch 3/5\n",
            "Epoch 4/5\n",
            "Epoch 5/5\n"
          ]
        }
      ]
    },
    {
      "cell_type": "code",
      "source": [
        "# Plot Training and Validation Accuracy\n",
        "epochs = np.arange(5) + 1\n",
        "plt.plot(epochs, train_accuracies, 'bo', label='Training accuracy')\n",
        "plt.plot(epochs, val_accuracies, 'r', label='Validation accuracy')\n",
        "plt.title('Training & Validation Accuracy (VGG16 from Scratch)')\n",
        "plt.xlabel('Epochs')\n",
        "plt.ylabel('Accuracy')\n",
        "plt.ylim(0, 1)\n",
        "plt.legend()\n",
        "plt.grid()\n",
        "plt.show()"
      ],
      "metadata": {
        "colab": {
          "base_uri": "https://localhost:8080/",
          "height": 472
        },
        "id": "dwGN8KKmAMQy",
        "outputId": "f31ced40-6c5d-4060-814f-09db2e853746"
      },
      "execution_count": null,
      "outputs": [
        {
          "output_type": "display_data",
          "data": {
            "text/plain": [
              "<Figure size 640x480 with 1 Axes>"
            ],
            "image/png": "[encoded data removed]"
          },
          "metadata": {}
        }
      ]
    },
    {
      "cell_type": "code",
      "source": [
        "\n",
        "# Model Evaluation\n",
        "@torch.no_grad()\n",
        "def evaluate_model(dataloader, model):\n",
        "    model.eval()\n",
        "    all_preds = []\n",
        "    all_labels = []\n",
        "\n",
        "    for x, y in dataloader:\n",
        "        predictions = model(x).cpu().numpy()  # Move to CPU for processing\n",
        "        y = y.cpu().numpy()  # Move labels to CPU\n",
        "        predictions = (predictions > 0.5).astype(int)  # Convert to class labels\n",
        "        all_preds.extend(predictions)\n",
        "        all_labels.extend(y)\n",
        "\n",
        "    return np.array(all_preds), np.array(all_labels)"
      ],
      "metadata": {
        "id": "2ePigfdhAU7a"
      },
      "execution_count": null,
      "outputs": []
    },
    {
      "cell_type": "code",
      "source": [
        "# Compute Metrics\n",
        "y_pred, y_true = evaluate_model(val_dl, model)\n",
        "accuracy = accuracy_score(y_true, y_pred)\n",
        "precision = precision_score(y_true, y_pred)\n",
        "recall = recall_score(y_true, y_pred)\n",
        "f1 = f1_score(y_true, y_pred)\n",
        "conf_matrix = confusion_matrix(y_true, y_pred)"
      ],
      "metadata": {
        "colab": {
          "base_uri": "https://localhost:8080/"
        },
        "id": "jHJDjIS8AaPO",
        "outputId": "17f4791e-305a-4e1c-b485-79a24c9c4ff4"
      },
      "execution_count": null,
      "outputs": [
        {
          "output_type": "stream",
          "name": "stderr",
          "text": [
            "/usr/local/lib/python3.11/dist-packages/sklearn/metrics/_classification.py:1565: UndefinedMetricWarning: Precision is ill-defined and being set to 0.0 due to no predicted samples. Use `zero_division` parameter to control this behavior.\n",
            "  _warn_prf(average, modifier, f\"{metric.capitalize()} is\", len(result))\n"
          ]
        }
      ]
    },
    {
      "cell_type": "code",
      "source": [
        "# Print Metrics\n",
        "print(f\"Accuracy: {accuracy:.4f}\")\n",
        "print(f\"Precision: {precision:.4f}\")\n",
        "print(f\"Recall: {recall:.4f}\")\n",
        "print(f\"F1-score: {f1:.4f}\")\n",
        "print(\"Confusion Matrix:\")\n",
        "print(conf_matrix)"
      ],
      "metadata": {
        "colab": {
          "base_uri": "https://localhost:8080/"
        },
        "id": "B18qkrl5Af7Q",
        "outputId": "415d76a1-cd0b-44e4-a05f-ce445d823a3c"
      },
      "execution_count": null,
      "outputs": [
        {
          "output_type": "stream",
          "name": "stdout",
          "text": [
            "Accuracy: 0.5000\n",
            "Precision: 0.0000\n",
            "Recall: 0.0000\n",
            "F1-score: 0.0000\n",
            "Confusion Matrix:\n",
            "[[496   0]\n",
            " [496   0]]\n"
          ]
        }
      ]
    },
    {
      "cell_type": "code",
      "source": [
        "\n",
        "\n",
        "# Plot Confusion Matrix\n",
        "plt.figure(figsize=(6, 4))\n",
        "sns.heatmap(conf_matrix, annot=True, fmt='d', cmap='Blues', xticklabels=['Cat', 'Dog'], yticklabels=['Cat', 'Dog'])\n",
        "plt.xlabel(\"Predicted\")\n",
        "plt.ylabel(\"Actual\")\n",
        "plt.title(\"Confusion Matrix\")\n",
        "plt.show()\n"
      ],
      "metadata": {
        "colab": {
          "base_uri": "https://localhost:8080/",
          "height": 410
        },
        "id": "TzWlDu7Z7TOk",
        "outputId": "8a49e168-eb28-45ff-abcf-5a45f759e1e9"
      },
      "execution_count": null,
      "outputs": [
        {
          "output_type": "display_data",
          "data": {
            "text/plain": [
              "<Figure size 600x400 with 2 Axes>"
            ],
            "image/png": "[encoded data removed]"
          },
          "metadata": {}
        }
      ]
    },
    {
      "cell_type": "code",
      "execution_count": null,
      "metadata": {
        "id": "PIGnnMPj7SVw"
      },
      "outputs": [],
      "source": []
    }
  ]
}