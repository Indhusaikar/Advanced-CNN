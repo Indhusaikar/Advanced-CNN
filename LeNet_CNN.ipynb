{
  "nbformat": 4,
  "nbformat_minor": 0,
  "metadata": {
    "colab": {
      "provenance": [],
      "gpuType": "T4"
    },
    "kernelspec": {
      "name": "python3",
      "display_name": "Python 3"
    },
    "language_info": {
      "name": "python"
    },
    "accelerator": "GPU"
  },
  "cells": [
    {
      "cell_type": "code",
      "execution_count": null,
      "metadata": {
        "colab": {
          "base_uri": "https://localhost:8080/"
        },
        "id": "M_fW2E5Xehih",
        "outputId": "5f26afaf-fc87-46d0-dac7-4945b0b7ab22"
      },
      "outputs": [
        {
          "output_type": "stream",
          "name": "stdout",
          "text": [
            "Mounted at /content/drive\n"
          ]
        }
      ],
      "source": [
        "\n",
        "from google.colab import drive\n",
        "drive.mount('/content/drive')\n"
      ]
    },
    {
      "cell_type": "code",
      "source": [
        "!nvidia-smi"
      ],
      "metadata": {
        "colab": {
          "base_uri": "https://localhost:8080/"
        },
        "id": "AP4ois_jXwtn",
        "outputId": "189489c5-71ba-4870-e6c4-43b2820bc210"
      },
      "execution_count": null,
      "outputs": [
        {
          "output_type": "stream",
          "name": "stdout",
          "text": [
            "Fri Mar 21 06:28:59 2025       \n",
            "+-----------------------------------------------------------------------------------------+\n",
            "| NVIDIA-SMI 550.54.15              Driver Version: 550.54.15      CUDA Version: 12.4     |\n",
            "|-----------------------------------------+------------------------+----------------------+\n",
            "| GPU  Name                 Persistence-M | Bus-Id          Disp.A | Volatile Uncorr. ECC |\n",
            "| Fan  Temp   Perf          Pwr:Usage/Cap |           Memory-Usage | GPU-Util  Compute M. |\n",
            "|                                         |                        |               MIG M. |\n",
            "|=========================================+========================+======================|\n",
            "|   0  Tesla T4                       Off |   00000000:00:04.0 Off |                    0 |\n",
            "| N/A   36C    P8              9W /   70W |       0MiB /  15360MiB |      0%      Default |\n",
            "|                                         |                        |                  N/A |\n",
            "+-----------------------------------------+------------------------+----------------------+\n",
            "                                                                                         \n",
            "+-----------------------------------------------------------------------------------------+\n",
            "| Processes:                                                                              |\n",
            "|  GPU   GI   CI        PID   Type   Process name                              GPU Memory |\n",
            "|        ID   ID                                                               Usage      |\n",
            "|=========================================================================================|\n",
            "|  No running processes found                                                             |\n",
            "+-----------------------------------------------------------------------------------------+\n"
          ]
        }
      ]
    },
    {
      "cell_type": "code",
      "source": [
        "import torch\n",
        "import torch.nn as nn\n",
        "import torchvision\n",
        "import torchvision.transforms as transforms\n",
        "import matplotlib.pyplot as plt\n",
        "\n",
        "import warnings\n",
        "warnings.filterwarnings('ignore')\n",
        "\n",
        "# Device will determine whether to run the training on GPU or CPU.\n",
        "device = torch.device('cuda' if torch.cuda.is_available() else 'cpu')\n",
        "# device = 'cpu'\n",
        "device"
      ],
      "metadata": {
        "colab": {
          "base_uri": "https://localhost:8080/"
        },
        "id": "EH5ZwozOe4ns",
        "outputId": "5f498dc7-cf5a-4ed8-b601-33bc094d44ff"
      },
      "execution_count": null,
      "outputs": [
        {
          "output_type": "execute_result",
          "data": {
            "text/plain": [
              "device(type='cuda')"
            ]
          },
          "metadata": {},
          "execution_count": 4
        }
      ]
    },
    {
      "cell_type": "code",
      "source": [
        "\n",
        "batch_size = 64\n",
        "num_classes = 10"
      ],
      "metadata": {
        "id": "F25mMe-Se4k0"
      },
      "execution_count": null,
      "outputs": []
    },
    {
      "cell_type": "code",
      "source": [
        "#Defining the convolutional neural network\n",
        "class LeNet5(nn.Module):\n",
        "    def __init__(self, num_classes):\n",
        "        super(LeNet5, self).__init__()\n",
        "        self.layer1 = nn.Sequential(\n",
        "            nn.Conv2d(1, 6, kernel_size=5, stride=1, padding=0),\n",
        "            # Above is Layer-1 - The input for LeNet-5 is a 32×32 grayscale image which passes through the first convolutional layer with 6 feature maps or filters having size 5×5 and a stride of one. The image dimensions changes from 32x32x1 to 28x28x6.\n",
        "\n",
        "            nn.BatchNorm2d(6),\n",
        "            nn.ReLU(),\n",
        "            # Layer-2 - Then average pooling layer or sub-sampling layer with a filter size 2×2 and a stride of two. The resulting image dimensions will be reduced to 14x14x6.\n",
        "            nn.MaxPool2d(kernel_size = 2, stride = 2)\n",
        "        )\n",
        "\n",
        "        self.layer2 = nn.Sequential(\n",
        "            nn.Conv2d(6, 16, kernel_size=5, stride=1, padding=0),\n",
        "            # Layer-3 Next, there is a second convolutional layer with 16 feature maps having size 5×5 and a stride of 1. In this layer, only 10 out of 16 feature maps are connected to 6 feature maps of the previous layer\n",
        "            nn.BatchNorm2d(16),\n",
        "            nn.ReLU(),\n",
        "            # Layer-4 The fourth layer (S4) is again an average pooling layer with filter size 2×2 and a stride of 2. This layer is the same as the second layer (S2) except it has 16 feature maps so the output will be reduced to 5x5x16.\n",
        "            nn.MaxPool2d(kernel_size = 2, stride = 2)\n",
        "        )\n",
        "\n",
        "        self.fc = nn.Linear(400, 120)\n",
        "        ''' Layer-5 The fifth layer (C5) is a fully connected convolutional layer with 120 feature maps each of size 1×1. Each of the 120 units in C5 is connected to all the 400 nodes (5x5x16) in the fourth layer S4. '''\n",
        "        self.relu = nn.ReLU()\n",
        "        '''Layer-6 The sixth layer is a fully connected layer (F6) with 84 units. '''\n",
        "        self.fc1 = nn.Linear(120, 84)\n",
        "        self.relu1 = nn.ReLU()\n",
        "        ''' Layer-7 - Finally, a fully connected layer ŷ with 10 possible values corresponding to the digits from 0 to 9. Since the MNIST data has 10 classes for each of the 10 numerical digits. '''\n",
        "        self.fc2 = nn.Linear(84, num_classes)\n",
        "\n",
        "    def forward(self, x):\n",
        "        output = self.layer1(x)\n",
        "        output = self.layer2(output)\n",
        "        print('output after layer2', output.size()) # torch.Size([32, 16, 5, 5]\n",
        "        # inside forward method image dimension are : [batch_size, channels, height, width]\n",
        "        output = output.reshape(output.size(0), -1)\n",
        "        # print('output after resize', output.size()) # torch.Size([32, 400])\n",
        "        output = self.fc(output)\n",
        "        output = self.relu(output)\n",
        "        output = self.fc1(output)\n",
        "        output = self.relu1(output)\n",
        "        output = self.fc2(output)\n",
        "        return output"
      ],
      "metadata": {
        "id": "ISxRsH9fe4iD"
      },
      "execution_count": null,
      "outputs": []
    },
    {
      "cell_type": "code",
      "source": [
        "class LeNet5(nn.Module):\n",
        "    def __init__(self,num_classes):\n",
        "        super(LeNet5,self).__init__()\n",
        "        self.layer1 = nn.Sequential(\n",
        "            nn.Conv2d(in_channels=1, out_channels=6, kernel_size=(5,5), stride=(1,1), padding=(0,0)), #Layer 1\n",
        "            nn.BatchNorm2d(6),\n",
        "            nn.ReLU(),\n",
        "            nn.MaxPool2d(kernel_size=(2, 2), stride=(2)) #Layer-2\n",
        "        )\n",
        "\n",
        "        self.layer2 = nn.Sequential(\n",
        "            nn.Conv2d(in_channels=6, out_channels=16, kernel_size=(5,5), stride=(1,1), padding=(0,0)), #Layer 3\n",
        "            nn.BatchNorm2d(16),\n",
        "            nn.ReLU(),\n",
        "            nn.MaxPool2d(kernel_size=(2, 2), stride=(2,2)) #Layer 4\n",
        "        )\n",
        "        self.fc = nn.Linear(400, 120) # Layer 5\n",
        "        self.relu = nn.ReLU()\n",
        "        self.fc1 = nn.Linear(120, 84) # Layer 6\n",
        "        self.relu1 = nn.ReLU()\n",
        "        self.fc2 = nn.Linear(84, num_classes) # Final Layer\n",
        "\n",
        "    def forward(self, x):\n",
        "        output = self.layer1(x)\n",
        "        output = self.layer2(output)\n",
        "        # print('output after layer2', output.size()) # torch.Size([32, 16, 5, 5]\n",
        "        output = output.reshape(output.size(0), -1) # See note below for this line\n",
        "        # print('output after resize', output.size()) # torch.Size([32, 400])\n",
        "        output = self.fc(output)\n",
        "        output = self.relu(output)\n",
        "        output = self.fc1(output)\n",
        "        output = self.relu1(output)\n",
        "        output = self.fc2(output)\n",
        "        return output"
      ],
      "metadata": {
        "id": "CI45XFvze4fL"
      },
      "execution_count": null,
      "outputs": []
    },
    {
      "cell_type": "code",
      "source": [
        "# Define relevant variables for the ML task\n",
        "\n",
        "''' Keeping num_classes at 10, as this will be the output shape from the final Layer of the LeNet5 Neural Network model, because, the output layer will have 10 output neurons, since the MNIST data has 10 classes for each of the 10 numerical digits. '''\n",
        "\n",
        "train_dataset = torchvision.datasets.MNIST(root = './data',\n",
        "                                           train = True,\n",
        "                                           transform = transforms.Compose([\n",
        "                                                  transforms.Resize((32,32)),\n",
        "                                                  transforms.ToTensor(),\n",
        "                                                  transforms.Normalize(mean = (0.1307,), std = (0.3081,))]),\n",
        "                                           download = True)\n",
        "\n",
        "\n",
        "test_dataset = torchvision.datasets.MNIST(root = './data',\n",
        "                                          train = False,\n",
        "                                          transform = transforms.Compose([\n",
        "                                                  transforms.Resize((32,32)),\n",
        "                                                  transforms.ToTensor(),\n",
        "                                                  transforms.Normalize(mean = (0.1325,), std = (0.3105,))]),\n",
        "                                          download=True)\n",
        "\n",
        "\n",
        "train_dataloader = torch.utils.data.DataLoader(dataset = train_dataset,\n",
        "                                           batch_size = batch_size,\n",
        "                                           shuffle = True)\n",
        "\n",
        "\n",
        "test_dataloader = torch.utils.data.DataLoader(dataset = test_dataset,\n",
        "                                           batch_size = batch_size,\n",
        "                                           shuffle = True)"
      ],
      "metadata": {
        "colab": {
          "base_uri": "https://localhost:8080/"
        },
        "id": "l5DVYbsHe4cV",
        "outputId": "64b46e2b-2d24-4430-faab-24c73604c43c"
      },
      "execution_count": null,
      "outputs": [
        {
          "output_type": "stream",
          "name": "stderr",
          "text": [
            "100%|██████████| 9.91M/9.91M [00:00<00:00, 15.1MB/s]\n",
            "100%|██████████| 28.9k/28.9k [00:00<00:00, 451kB/s]\n",
            "100%|██████████| 1.65M/1.65M [00:00<00:00, 4.20MB/s]\n",
            "100%|██████████| 4.54k/4.54k [00:00<00:00, 6.25MB/s]\n"
          ]
        }
      ]
    },
    {
      "cell_type": "code",
      "source": [
        "learning_rate = 0.001\n",
        "\n",
        "model = LeNet5(num_classes).to(device)\n",
        "\n",
        "#Setting the loss function\n",
        "criterion = nn.CrossEntropyLoss()\n",
        "\n",
        "#Setting the optimizer with the model parameters and learning rate\n",
        "optimizer = torch.optim.Adam(model.parameters(), lr=learning_rate)\n",
        "\n",
        "#this is defined to print how many steps are remaining when training\n",
        "total_step = len(train_dataloader)\n"
      ],
      "metadata": {
        "id": "t0_T6T2wYNJP"
      },
      "execution_count": null,
      "outputs": []
    },
    {
      "cell_type": "code",
      "source": [
        "print('Length of train_dataloader ', len(train_dataloader))\n",
        "print('Length of test_dataloader ', len(test_dataloader))"
      ],
      "metadata": {
        "colab": {
          "base_uri": "https://localhost:8080/"
        },
        "id": "5U5cmWgte4Z0",
        "outputId": "71dae7b3-d227-448d-a05e-14be0dada63a"
      },
      "execution_count": null,
      "outputs": [
        {
          "output_type": "stream",
          "name": "stdout",
          "text": [
            "Length of train_dataloader  938\n",
            "Length of test_dataloader  157\n"
          ]
        }
      ]
    },
    {
      "cell_type": "code",
      "source": [
        "def train(model, criterion, optimizer, num_epochs=10):\n",
        "    total_training_loss = []\n",
        "    total_step = len(train_dataloader)\n",
        "\n",
        "    for epoch in range(num_epochs):\n",
        "        running_loss = 0.0\n",
        "\n",
        "        for i, (images, labels) in enumerate(train_dataloader):\n",
        "            images = images.to(device)\n",
        "            labels = labels.to(device)\n",
        "\n",
        "            #Forward pass\n",
        "            outputs = model(images)\n",
        "            loss = criterion(outputs, labels)\n",
        "\n",
        "            # Backward and optimize\n",
        "            optimizer.zero_grad() # Clear the past gradient by set the gradients to zero before every update\n",
        "            loss.backward() #  calculate the new gradients\n",
        "            # print('images.size ', images.size(0))\n",
        "            '''  \"\"\" Update the running loss\n",
        "            we need to use, loss.item() instead of loss alone in running_loss calculation and averaging.\n",
        "            Because loss gives you a grad_function, not a float value.\n",
        "            The item() method extracts the loss’s value as a Python float.\n",
        "            \"\"\" '''\n",
        "            running_loss += loss.item() * images.size(0)\n",
        "            optimizer.step() # we update the weights\n",
        "\n",
        "\n",
        "            if (i+1) % 400 == 0:\n",
        "                print ('Epoch [{}/{}], Step [{}/{}], Loss: {:.4f}'\n",
        "                            .format(epoch+1, num_epochs, i+1, total_step, loss.item()))\n",
        "        epoch_loss = running_loss / len(train_dataloader)\n",
        "        total_training_loss.append(epoch_loss)\n",
        "        \"\"\" To summarize, in the above code what I did is\n",
        "\n",
        "        1. => multiply each average batch loss with batch-length.\n",
        "        The batch-length is inputs.size(0) which gives the number total images in each batch.\n",
        "        Essentially I am un-averaging the Batch-Loss\n",
        "\n",
        "        Do this all the batches inside the batch-running loop.\n",
        "        And then after that loop, i.e. outside the batch-loop and coming back to my epoch-loop\n",
        "\n",
        "        2. => Divide this accumulated un-averaged Batch-loss from all batches,\n",
        "        by the number of samples (len(train_dataloader)) to get the exact train loss average for the epoch \"\"\"\n",
        "    return total_training_loss"
      ],
      "metadata": {
        "id": "K3XhcaRHe4XE"
      },
      "execution_count": null,
      "outputs": []
    },
    {
      "cell_type": "code",
      "source": [
        "total_training_loss = train(model, criterion, optimizer, num_epochs=30)\n",
        "\n"
      ],
      "metadata": {
        "colab": {
          "base_uri": "https://localhost:8080/"
        },
        "id": "iizaaebgiYTX",
        "outputId": "0f23977a-ebfe-4005-80a6-8e4c819d8b8b"
      },
      "execution_count": null,
      "outputs": [
        {
          "output_type": "stream",
          "name": "stdout",
          "text": [
            "Epoch [1/30], Step [400/938], Loss: 0.0952\n",
            "Epoch [1/30], Step [800/938], Loss: 0.1631\n",
            "Epoch [2/30], Step [400/938], Loss: 0.1898\n",
            "Epoch [2/30], Step [800/938], Loss: 0.0472\n",
            "Epoch [3/30], Step [400/938], Loss: 0.0617\n",
            "Epoch [3/30], Step [800/938], Loss: 0.0041\n",
            "Epoch [4/30], Step [400/938], Loss: 0.0785\n",
            "Epoch [4/30], Step [800/938], Loss: 0.0139\n",
            "Epoch [5/30], Step [400/938], Loss: 0.0596\n",
            "Epoch [5/30], Step [800/938], Loss: 0.0389\n",
            "Epoch [6/30], Step [400/938], Loss: 0.0263\n",
            "Epoch [6/30], Step [800/938], Loss: 0.0242\n",
            "Epoch [7/30], Step [400/938], Loss: 0.0079\n",
            "Epoch [7/30], Step [800/938], Loss: 0.0560\n",
            "Epoch [8/30], Step [400/938], Loss: 0.0018\n",
            "Epoch [8/30], Step [800/938], Loss: 0.0038\n",
            "Epoch [9/30], Step [400/938], Loss: 0.0002\n",
            "Epoch [9/30], Step [800/938], Loss: 0.0009\n",
            "Epoch [10/30], Step [400/938], Loss: 0.0004\n",
            "Epoch [10/30], Step [800/938], Loss: 0.0025\n",
            "Epoch [11/30], Step [400/938], Loss: 0.0042\n",
            "Epoch [11/30], Step [800/938], Loss: 0.0013\n",
            "Epoch [12/30], Step [400/938], Loss: 0.0175\n",
            "Epoch [12/30], Step [800/938], Loss: 0.0022\n",
            "Epoch [13/30], Step [400/938], Loss: 0.0047\n",
            "Epoch [13/30], Step [800/938], Loss: 0.0475\n",
            "Epoch [14/30], Step [400/938], Loss: 0.0849\n",
            "Epoch [14/30], Step [800/938], Loss: 0.0543\n",
            "Epoch [15/30], Step [400/938], Loss: 0.0018\n",
            "Epoch [15/30], Step [800/938], Loss: 0.0005\n",
            "Epoch [16/30], Step [400/938], Loss: 0.0012\n",
            "Epoch [16/30], Step [800/938], Loss: 0.0006\n",
            "Epoch [17/30], Step [400/938], Loss: 0.0000\n",
            "Epoch [17/30], Step [800/938], Loss: 0.0001\n",
            "Epoch [18/30], Step [400/938], Loss: 0.0061\n",
            "Epoch [18/30], Step [800/938], Loss: 0.0389\n",
            "Epoch [19/30], Step [400/938], Loss: 0.0015\n",
            "Epoch [19/30], Step [800/938], Loss: 0.0004\n",
            "Epoch [20/30], Step [400/938], Loss: 0.0003\n",
            "Epoch [20/30], Step [800/938], Loss: 0.0055\n",
            "Epoch [21/30], Step [400/938], Loss: 0.0001\n",
            "Epoch [21/30], Step [800/938], Loss: 0.0004\n",
            "Epoch [22/30], Step [400/938], Loss: 0.0094\n",
            "Epoch [22/30], Step [800/938], Loss: 0.0014\n",
            "Epoch [23/30], Step [400/938], Loss: 0.0009\n",
            "Epoch [23/30], Step [800/938], Loss: 0.0014\n",
            "Epoch [24/30], Step [400/938], Loss: 0.0005\n",
            "Epoch [24/30], Step [800/938], Loss: 0.0211\n",
            "Epoch [25/30], Step [400/938], Loss: 0.0230\n",
            "Epoch [25/30], Step [800/938], Loss: 0.0000\n",
            "Epoch [26/30], Step [400/938], Loss: 0.0003\n",
            "Epoch [26/30], Step [800/938], Loss: 0.0098\n",
            "Epoch [27/30], Step [400/938], Loss: 0.0000\n",
            "Epoch [27/30], Step [800/938], Loss: 0.0000\n",
            "Epoch [28/30], Step [400/938], Loss: 0.0001\n",
            "Epoch [28/30], Step [800/938], Loss: 0.0811\n",
            "Epoch [29/30], Step [400/938], Loss: 0.0001\n",
            "Epoch [29/30], Step [800/938], Loss: 0.0000\n",
            "Epoch [30/30], Step [400/938], Loss: 0.0012\n",
            "Epoch [30/30], Step [800/938], Loss: 0.0214\n"
          ]
        }
      ]
    },
    {
      "cell_type": "code",
      "source": [
        "total_training_loss\n"
      ],
      "metadata": {
        "colab": {
          "base_uri": "https://localhost:8080/"
        },
        "id": "_H8ng4ickgyk",
        "outputId": "e7551b31-a9a8-4101-8fab-5e0736201dbd"
      },
      "execution_count": null,
      "outputs": [
        {
          "output_type": "execute_result",
          "data": {
            "text/plain": [
              "[10.280665679749395,\n",
              " 3.333836206105917,\n",
              " 2.5820275206230026,\n",
              " 2.1010305011756163,\n",
              " 1.8696431608787223,\n",
              " 1.5372069240656934,\n",
              " 1.3731242215527948,\n",
              " 1.1700671641975204,\n",
              " 1.0765689197824206,\n",
              " 1.0115766556413996,\n",
              " 0.8764960684640798,\n",
              " 0.7355647728477951,\n",
              " 0.6405584892820391,\n",
              " 0.6964752546239076,\n",
              " 0.4661425993214227,\n",
              " 0.606924369351487,\n",
              " 0.5370236046503379,\n",
              " 0.3935058914210493,\n",
              " 0.4345074557831022,\n",
              " 0.578393693218036,\n",
              " 0.3365052719404967,\n",
              " 0.35942531677934847,\n",
              " 0.445877141189016,\n",
              " 0.27741541226311744,\n",
              " 0.26701062860443425,\n",
              " 0.4255391472307373,\n",
              " 0.24806095151345692,\n",
              " 0.23067292738149162,\n",
              " 0.36919456024499037,\n",
              " 0.23995828583628903]"
            ]
          },
          "metadata": {},
          "execution_count": 13
        }
      ]
    },
    {
      "cell_type": "code",
      "source": [
        "epoch_count = range(1, len(total_training_loss) + 1)\n",
        "\n",
        "# Visualize loss history\n",
        "plt.plot(epoch_count, total_training_loss, 'r--')\n",
        "plt.legend(['Training Loss', 'Test Loss'])\n",
        "plt.xlabel('Epoch')\n",
        "plt.ylabel('Loss')\n",
        "plt.show();"
      ],
      "metadata": {
        "colab": {
          "base_uri": "https://localhost:8080/",
          "height": 449
        },
        "id": "QxaBDdDMYxSQ",
        "outputId": "d383e93e-5f61-4d27-b618-dd213e4b6819"
      },
      "execution_count": null,
      "outputs": [
        {
          "output_type": "display_data",
          "data": {
            "text/plain": [
              "<Figure size 640x480 with 1 Axes>"
            ],
            "image/png": "[encoded data removed]"
          },
          "metadata": {}
        }
      ]
    },
    {
      "cell_type": "code",
      "source": [
        "test_samples_num = 10000\n",
        "correct = 0\n",
        "\n",
        "model.eval().cuda()\n",
        "\n",
        "with  torch.no_grad():\n",
        "    for inputs, labels in test_dataloader:\n",
        "        inputs, labels = inputs.to(device), labels.to(device)\n",
        "        # Make predictions.\n",
        "        prediction = model(inputs)\n",
        "\n",
        "        # Retrieve predictions indexes.\n",
        "        _, predicted_class = torch.max(prediction.data, 1)\n",
        "\n",
        "        # Compute number of correct predictions.\n",
        "        correct += (predicted_class == labels).float().sum().item()\n",
        "\n",
        "test_accuracy = correct / test_samples_num\n",
        "print('Test accuracy: {}'.format(test_accuracy))"
      ],
      "metadata": {
        "colab": {
          "base_uri": "https://localhost:8080/"
        },
        "id": "-jEY9NezbvKg",
        "outputId": "f97c6e67-815e-4d6c-c042-e30a8cfe6fd3"
      },
      "execution_count": 16,
      "outputs": [
        {
          "output_type": "stream",
          "name": "stdout",
          "text": [
            "Test accuracy: 0.9916\n"
          ]
        }
      ]
    }
  ]
}